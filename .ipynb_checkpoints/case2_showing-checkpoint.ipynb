{
 "cells": [
  {
   "cell_type": "markdown",
   "id": "supreme-vatican",
   "metadata": {},
   "source": [
    "## For year 2015:\n",
    "    Total revenue for the current year: 29036749.189999994\n",
    "    New Customer Revenue: 29036749.189999994 (all customers are considered new)\n",
    "    Existing Customer Growth: 0 (no existing customer)\n",
    "    Revenue lost from attrition: 0 (no existing customer)\n",
    "    Existing Customer Revenue Current Year: 0 (no existing customer)\n",
    "    Existing Customer Revenue Prior Year: 0 (no existing customer)\n",
    "    Total Customers Current Year: 231294\n",
    "    Total Customers Previous Year: 0\n",
    "    New Customers: 231294\n",
    "    Lost Customers: 0\n",
    "    \n",
    "## For year 2016:\n",
    "    Total revenue for the current year: 25730943.59\n",
    "    New Customer Revenue: 18245491.01\n",
    "    Existing Customer Growth: 20335.459999999963\n",
    "    Revenue lost from attrition: 21571632.070000004\n",
    "    Existing Customer Revenue Current Year: 7485452.58\n",
    "    Existing Customer Revenue Prior Year: 7465117.12\n",
    "    Total Customers Current Year: 204646\n",
    "    Total Customers Previous Year: 231294\n",
    "    New Customers: 145062\n",
    "    Lost Customers: 171710\n",
    "    \n",
    "## For year 2017:\n",
    "    Total revenue for the current year: 31417495.030000016\n",
    "    New Customer Revenue: 28776235.039999995\n",
    "    Existing Customer Growth: 20611.340000000317\n",
    "    Revenue lost from attrition: 23110294.939999998\n",
    "    Existing Customer Revenue Current Year: 2641259.99\n",
    "    Existing Customer Revenue Prior Year: 2620648.65\n",
    "    Total Customers Current Year: 249987\n",
    "    Total Customers Previous Year: 204646\n",
    "    New Customers: 229028\n",
    "    Lost Customers: 183687"
   ]
  }
 ],
 "metadata": {
  "kernelspec": {
   "display_name": "stoutExercise",
   "language": "python",
   "name": "stoutexercise"
  },
  "language_info": {
   "codemirror_mode": {
    "name": "ipython",
    "version": 3
   },
   "file_extension": ".py",
   "mimetype": "text/x-python",
   "name": "python",
   "nbconvert_exporter": "python",
   "pygments_lexer": "ipython3",
   "version": "3.7.2"
  }
 },
 "nbformat": 4,
 "nbformat_minor": 5
}
